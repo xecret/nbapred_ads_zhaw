{
 "cells": [
  {
   "cell_type": "code",
   "execution_count": 1,
   "metadata": {},
   "outputs": [],
   "source": [
    "#import libraries\n",
    "import praw\n",
    "from collections import Counter\n",
    "import spacy"
   ]
  },
  {
   "cell_type": "code",
   "execution_count": 2,
   "metadata": {},
   "outputs": [],
   "source": [
    "#get the natural language processing model (NLP)\n",
    "nlp = spacy.load('en_core_web_sm')"
   ]
  },
  {
   "cell_type": "code",
   "execution_count": 3,
   "metadata": {},
   "outputs": [],
   "source": [
    "#create reddit collector infos\n",
    "reddit = praw.Reddit(client_id='0-YwhmXq5wz__EJtJihCyQ',\n",
    "                     client_secret='oO6j4aYAA6XWDbWB94MfKCW1Ke5nIA',\n",
    "                     user_agent='Mozilla/5.0 (Windows NT 10.0; Win64; x64) AppleWebKit/537.36 (KHTML, like Gecko) Chrome/123.0.0.0 Safari/537.36')"
   ]
  },
  {
   "cell_type": "code",
   "execution_count": 4,
   "metadata": {},
   "outputs": [],
   "source": [
    "#create 2 Lists to fill with reddit data\n",
    "posts = []\n",
    "comments = []"
   ]
  },
  {
   "cell_type": "code",
   "execution_count": 13,
   "metadata": {},
   "outputs": [],
   "source": [
    "#get the text from the nba subreddit\n",
    "for submission in reddit.subreddit('nba').hot(limit=200):\n",
    "    posts.append(submission.title)\n",
    "    submission.comments.replace_more(limit=50)\n",
    "    for comment in submission.comments.list():\n",
    "        comments.append(comment.body)"
   ]
  },
  {
   "cell_type": "code",
   "execution_count": 14,
   "metadata": {},
   "outputs": [],
   "source": [
    "#create a counter and set the keywords to look for in the data\n",
    "name_counter = Counter()\n",
    "mvp_keywords = [\"MVP\", \"Most Valuable Player\", \"MVP race\", \"MVP candidate\"]"
   ]
  },
  {
   "cell_type": "code",
   "execution_count": null,
   "metadata": {},
   "outputs": [],
   "source": [
    "#check the data for the keywords and players and add the mentions up\n",
    "for text in posts + comments:\n",
    "    doc = nlp(text)\n",
    "    for ent in doc.ents:\n",
    "        if ent.text in mvp_keywords:\n",
    "            # If MVP keyword found, extract player names and count occurrences\n",
    "            for token in doc:\n",
    "                if token.ent_type_ == \"PERSON\":\n",
    "                    name_counter[token.text] += 1"
   ]
  },
  {
   "cell_type": "code",
   "execution_count": 23,
   "metadata": {},
   "outputs": [
    {
     "name": "stdout",
     "output_type": "stream",
     "text": [
      "Predicted MVP based on mentions: James with 733 mentions.\n"
     ]
    }
   ],
   "source": [
    "#get the most mentioned player\n",
    "most_mentioned = name_counter.most_common(1)\n",
    "\n",
    "print(\"Predicted MVP based on mentions:\", most_mentioned[0][0], \"with\", most_mentioned[0][1], \"mentions.\")"
   ]
  },
  {
   "cell_type": "code",
   "execution_count": 24,
   "metadata": {},
   "outputs": [
    {
     "name": "stdout",
     "output_type": "stream",
     "text": [
      "-----------------------------------\n",
      "NT\n",
      "Windows | 10\n",
      "Datetime: 2024-05-07 20:10:49\n",
      "Python Version: 3.10.13\n",
      "-----------------------------------\n"
     ]
    }
   ],
   "source": [
    "import os\n",
    "import platform\n",
    "import socket\n",
    "from platform import python_version\n",
    "from datetime import datetime\n",
    "\n",
    "print('-----------------------------------')\n",
    "print(os.name.upper())\n",
    "print(platform.system(), '|', platform.release())\n",
    "print('Datetime:', datetime.now().strftime(\"%Y-%m-%d %H:%M:%S\"))\n",
    "print('Python Version:', python_version())\n",
    "print('-----------------------------------')"
   ]
  }
 ],
 "metadata": {
  "kernelspec": {
   "display_name": "nbaenv",
   "language": "python",
   "name": "python3"
  },
  "language_info": {
   "codemirror_mode": {
    "name": "ipython",
    "version": 3
   },
   "file_extension": ".py",
   "mimetype": "text/x-python",
   "name": "python",
   "nbconvert_exporter": "python",
   "pygments_lexer": "ipython3",
   "version": "3.10.13"
  }
 },
 "nbformat": 4,
 "nbformat_minor": 2
}
